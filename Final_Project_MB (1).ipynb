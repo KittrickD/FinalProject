{
 "cells": [
  {
   "cell_type": "code",
   "execution_count": 33,
   "metadata": {},
   "outputs": [],
   "source": [
    "# Mendel Blumberger\n",
    "import pandas as pd\n",
    "import geopandas\n",
    "import numpy as np\n",
    "%matplotlib inline\n",
    "import matplotlib.pyplot as plt\n",
    "\n",
    "# Open file\n",
    "c = pd.read_csv(\"covid.tsv\", sep=\"\\t\")"
   ]
  },
  {
   "cell_type": "code",
   "execution_count": 2,
   "metadata": {},
   "outputs": [
    {
     "data": {
      "text/html": [
       "<div>\n",
       "<style scoped>\n",
       "    .dataframe tbody tr th:only-of-type {\n",
       "        vertical-align: middle;\n",
       "    }\n",
       "\n",
       "    .dataframe tbody tr th {\n",
       "        vertical-align: top;\n",
       "    }\n",
       "\n",
       "    .dataframe thead th {\n",
       "        text-align: right;\n",
       "    }\n",
       "</style>\n",
       "<table border=\"1\" class=\"dataframe\">\n",
       "  <thead>\n",
       "    <tr style=\"text-align: right;\">\n",
       "      <th></th>\n",
       "      <th>neighborhood_municipality</th>\n",
       "      <th>individuals_tested</th>\n",
       "      <th>infections</th>\n",
       "      <th>reinfections</th>\n",
       "      <th>deaths</th>\n",
       "      <th>hospitalizations</th>\n",
       "      <th>tests</th>\n",
       "      <th>postives</th>\n",
       "      <th>ag_tests</th>\n",
       "      <th>positive_ag_tests</th>\n",
       "      <th>pcr_tests</th>\n",
       "      <th>positive_pcr_tests</th>\n",
       "      <th>update_date</th>\n",
       "    </tr>\n",
       "  </thead>\n",
       "  <tbody>\n",
       "    <tr>\n",
       "      <th>0</th>\n",
       "      <td>Aleppo</td>\n",
       "      <td>1102</td>\n",
       "      <td>1557</td>\n",
       "      <td>34</td>\n",
       "      <td>15</td>\n",
       "      <td>19</td>\n",
       "      <td>4684</td>\n",
       "      <td>323</td>\n",
       "      <td>2374</td>\n",
       "      <td>96</td>\n",
       "      <td>2312</td>\n",
       "      <td>227</td>\n",
       "      <td>2022-04-04</td>\n",
       "    </tr>\n",
       "    <tr>\n",
       "      <th>1</th>\n",
       "      <td>Allegheny Center (Pittsburgh)</td>\n",
       "      <td>1011</td>\n",
       "      <td>1181</td>\n",
       "      <td>80</td>\n",
       "      <td>5</td>\n",
       "      <td>14</td>\n",
       "      <td>2898</td>\n",
       "      <td>374</td>\n",
       "      <td>379</td>\n",
       "      <td>47</td>\n",
       "      <td>2520</td>\n",
       "      <td>327</td>\n",
       "      <td>2022-04-04</td>\n",
       "    </tr>\n",
       "    <tr>\n",
       "      <th>2</th>\n",
       "      <td>Allegheny West (Pittsburgh)</td>\n",
       "      <td>349</td>\n",
       "      <td>392</td>\n",
       "      <td>61</td>\n",
       "      <td>0</td>\n",
       "      <td>5</td>\n",
       "      <td>1217</td>\n",
       "      <td>109</td>\n",
       "      <td>240</td>\n",
       "      <td>17</td>\n",
       "      <td>977</td>\n",
       "      <td>92</td>\n",
       "      <td>2022-04-04</td>\n",
       "    </tr>\n",
       "    <tr>\n",
       "      <th>3</th>\n",
       "      <td>Allentown (Pittsburgh)</td>\n",
       "      <td>1489</td>\n",
       "      <td>2294</td>\n",
       "      <td>176</td>\n",
       "      <td>2</td>\n",
       "      <td>33</td>\n",
       "      <td>5212</td>\n",
       "      <td>617</td>\n",
       "      <td>1275</td>\n",
       "      <td>83</td>\n",
       "      <td>3934</td>\n",
       "      <td>534</td>\n",
       "      <td>2022-04-04</td>\n",
       "    </tr>\n",
       "    <tr>\n",
       "      <th>4</th>\n",
       "      <td>Arlington (Pittsburgh)</td>\n",
       "      <td>1075</td>\n",
       "      <td>1736</td>\n",
       "      <td>216</td>\n",
       "      <td>9</td>\n",
       "      <td>29</td>\n",
       "      <td>4382</td>\n",
       "      <td>519</td>\n",
       "      <td>1050</td>\n",
       "      <td>105</td>\n",
       "      <td>3329</td>\n",
       "      <td>413</td>\n",
       "      <td>2022-04-04</td>\n",
       "    </tr>\n",
       "    <tr>\n",
       "      <th>5</th>\n",
       "      <td>Arlington Heights (Pittsburgh)</td>\n",
       "      <td>148</td>\n",
       "      <td>149</td>\n",
       "      <td>11</td>\n",
       "      <td>3</td>\n",
       "      <td>3</td>\n",
       "      <td>551</td>\n",
       "      <td>42</td>\n",
       "      <td>90</td>\n",
       "      <td>10</td>\n",
       "      <td>461</td>\n",
       "      <td>32</td>\n",
       "      <td>2022-04-04</td>\n",
       "    </tr>\n",
       "    <tr>\n",
       "      <th>6</th>\n",
       "      <td>Aspinwall</td>\n",
       "      <td>2098</td>\n",
       "      <td>1965</td>\n",
       "      <td>66</td>\n",
       "      <td>1</td>\n",
       "      <td>11</td>\n",
       "      <td>6905</td>\n",
       "      <td>593</td>\n",
       "      <td>1610</td>\n",
       "      <td>146</td>\n",
       "      <td>5286</td>\n",
       "      <td>446</td>\n",
       "      <td>2022-04-04</td>\n",
       "    </tr>\n",
       "    <tr>\n",
       "      <th>7</th>\n",
       "      <td>Avalon</td>\n",
       "      <td>2997</td>\n",
       "      <td>4531</td>\n",
       "      <td>313</td>\n",
       "      <td>12</td>\n",
       "      <td>57</td>\n",
       "      <td>11200</td>\n",
       "      <td>1141</td>\n",
       "      <td>2503</td>\n",
       "      <td>240</td>\n",
       "      <td>8700</td>\n",
       "      <td>900</td>\n",
       "      <td>2022-04-04</td>\n",
       "    </tr>\n",
       "    <tr>\n",
       "      <th>8</th>\n",
       "      <td>Baldwin Borough</td>\n",
       "      <td>14391</td>\n",
       "      <td>23656</td>\n",
       "      <td>1482</td>\n",
       "      <td>72</td>\n",
       "      <td>294</td>\n",
       "      <td>50665</td>\n",
       "      <td>6448</td>\n",
       "      <td>13276</td>\n",
       "      <td>1623</td>\n",
       "      <td>37394</td>\n",
       "      <td>4812</td>\n",
       "      <td>2022-04-04</td>\n",
       "    </tr>\n",
       "    <tr>\n",
       "      <th>9</th>\n",
       "      <td>Baldwin Township</td>\n",
       "      <td>1353</td>\n",
       "      <td>1886</td>\n",
       "      <td>98</td>\n",
       "      <td>1</td>\n",
       "      <td>13</td>\n",
       "      <td>4191</td>\n",
       "      <td>607</td>\n",
       "      <td>1101</td>\n",
       "      <td>186</td>\n",
       "      <td>3092</td>\n",
       "      <td>418</td>\n",
       "      <td>2022-04-04</td>\n",
       "    </tr>\n",
       "  </tbody>\n",
       "</table>\n",
       "</div>"
      ],
      "text/plain": [
       "        neighborhood_municipality  individuals_tested  infections  \\\n",
       "0                          Aleppo                1102        1557   \n",
       "1   Allegheny Center (Pittsburgh)                1011        1181   \n",
       "2     Allegheny West (Pittsburgh)                 349         392   \n",
       "3          Allentown (Pittsburgh)                1489        2294   \n",
       "4          Arlington (Pittsburgh)                1075        1736   \n",
       "5  Arlington Heights (Pittsburgh)                 148         149   \n",
       "6                       Aspinwall                2098        1965   \n",
       "7                          Avalon                2997        4531   \n",
       "8                 Baldwin Borough               14391       23656   \n",
       "9                Baldwin Township                1353        1886   \n",
       "\n",
       "   reinfections  deaths  hospitalizations  tests  postives  ag_tests  \\\n",
       "0            34      15                19   4684       323      2374   \n",
       "1            80       5                14   2898       374       379   \n",
       "2            61       0                 5   1217       109       240   \n",
       "3           176       2                33   5212       617      1275   \n",
       "4           216       9                29   4382       519      1050   \n",
       "5            11       3                 3    551        42        90   \n",
       "6            66       1                11   6905       593      1610   \n",
       "7           313      12                57  11200      1141      2503   \n",
       "8          1482      72               294  50665      6448     13276   \n",
       "9            98       1                13   4191       607      1101   \n",
       "\n",
       "   positive_ag_tests  pcr_tests  positive_pcr_tests update_date  \n",
       "0                 96       2312                 227  2022-04-04  \n",
       "1                 47       2520                 327  2022-04-04  \n",
       "2                 17        977                  92  2022-04-04  \n",
       "3                 83       3934                 534  2022-04-04  \n",
       "4                105       3329                 413  2022-04-04  \n",
       "5                 10        461                  32  2022-04-04  \n",
       "6                146       5286                 446  2022-04-04  \n",
       "7                240       8700                 900  2022-04-04  \n",
       "8               1623      37394                4812  2022-04-04  \n",
       "9                186       3092                 418  2022-04-04  "
      ]
     },
     "execution_count": 2,
     "metadata": {},
     "output_type": "execute_result"
    }
   ],
   "source": [
    "c.head(10) # displays 10 columns"
   ]
  },
  {
   "cell_type": "code",
   "execution_count": 3,
   "metadata": {},
   "outputs": [
    {
     "data": {
      "text/plain": [
       "14.592760180995475"
      ]
     },
     "execution_count": 3,
     "metadata": {},
     "output_type": "execute_result"
    },
    {
     "data": {
      "image/png": "[encoded data removed]",
      "text/plain": [
       "<Figure size 432x288 with 1 Axes>"
      ]
     },
     "metadata": {
      "needs_background": "light"
     },
     "output_type": "display_data"
    }
   ],
   "source": [
    "c[\"deaths\"].plot.box() # Box and whisker plot of deaths\n",
    "\n",
    "c['deaths'].mean() # Mean of deaths\n",
    "\n",
    "# This graph tells us the average death count per neighborhood was 14.5 with a range of 5 - 20"
   ]
  },
  {
   "cell_type": "code",
   "execution_count": 25,
   "metadata": {},
   "outputs": [
    {
     "data": {
      "text/plain": [
       "59.09502262443439"
      ]
     },
     "execution_count": 25,
     "metadata": {},
     "output_type": "execute_result"
    },
    {
     "data": {
      "image/png": "[encoded data removed]",
      "text/plain": [
       "<Figure size 432x288 with 1 Axes>"
      ]
     },
     "metadata": {
      "needs_background": "light"
     },
     "output_type": "display_data"
    }
   ],
   "source": [
    "c[\"hospitalizations\"].plot.box() # Box and whisker plot\n",
    "\n",
    "c['hospitalizations'].mean() # Mean of hospitalizations\n",
    "\n",
    "# This graph tells us the average hospitalization count per neighborhood was 59 with a range of 20 - 75"
   ]
  },
  {
   "cell_type": "code",
   "execution_count": 26,
   "metadata": {},
   "outputs": [
    {
     "data": {
      "text/plain": [
       "5630.3574660633485"
      ]
     },
     "execution_count": 26,
     "metadata": {},
     "output_type": "execute_result"
    },
    {
     "data": {
      "image/png": "[encoded data removed]",
      "text/plain": [
       "<Figure size 432x288 with 1 Axes>"
      ]
     },
     "metadata": {
      "needs_background": "light"
     },
     "output_type": "display_data"
    }
   ],
   "source": [
    "c[\"infections\"].plot.box() # Box and whisker plot\n",
    "\n",
    "c['infections'].mean() # Mean of infections\n",
    "\n",
    "# This graph tells us the average infection count per neighborhood was 5630 with a range of 2000 - 7500"
   ]
  },
  {
   "cell_type": "code",
   "execution_count": 27,
   "metadata": {},
   "outputs": [
    {
     "data": {
      "text/plain": [
       "neighborhood_municipality\n",
       "Penn Hills                38804\n",
       "Ross                      37000\n",
       "Monroeville               34812\n",
       "Mount Lebanon             34005\n",
       "Bethel Park               32045\n",
       "                          ...  \n",
       "Glenfield                   132\n",
       "Chateau (Pittsburgh)         85\n",
       "Haysville                    82\n",
       "Trafford                     41\n",
       "Undefined (Pittsburgh)       28\n",
       "Name: infections, Length: 221, dtype: int64"
      ]
     },
     "execution_count": 27,
     "metadata": {},
     "output_type": "execute_result"
    }
   ],
   "source": [
    "# Only displays infections column and ranks them by highest value to lowest\n",
    "num_infections = c.groupby(\"neighborhood_municipality\").sum()['infections']\n",
    "num_infections.sort_values(ascending=False)"
   ]
  },
  {
   "cell_type": "code",
   "execution_count": 28,
   "metadata": {},
   "outputs": [
    {
     "data": {
      "text/plain": [
       "neighborhood_municipality\n",
       "Penn Hills                  586\n",
       "Monroeville                 456\n",
       "McKeesport                  439\n",
       "Ross                        351\n",
       "Baldwin Borough             294\n",
       "                           ... \n",
       "Trafford                      0\n",
       "Ben Avon Heights              0\n",
       "South Shore (Pittsburgh)      0\n",
       "Haysville                     0\n",
       "Ridgemont (Pittsburgh)        0\n",
       "Name: hospitalizations, Length: 221, dtype: int64"
      ]
     },
     "execution_count": 28,
     "metadata": {},
     "output_type": "execute_result"
    }
   ],
   "source": [
    "# Only displays hospitalizations column and ranks them by highest value to lowest\n",
    "num_hospitalizations = c.groupby(\"neighborhood_municipality\").sum()['hospitalizations']\n",
    "num_hospitalizations.sort_values(ascending=False)"
   ]
  },
  {
   "cell_type": "code",
   "execution_count": 29,
   "metadata": {},
   "outputs": [
    {
     "data": {
      "text/plain": [
       "neighborhood_municipality\n",
       "Ross                                      137\n",
       "Monroeville                               131\n",
       "McCandless                                130\n",
       "Penn Hills                                107\n",
       "McKeesport                                106\n",
       "                                         ... \n",
       "Thornburg                                   0\n",
       "Emsworth                                    0\n",
       "Esplen (Pittsburgh)                         0\n",
       "Central Business District (Pittsburgh)      0\n",
       "Kilbuck                                     0\n",
       "Name: deaths, Length: 221, dtype: int64"
      ]
     },
     "execution_count": 29,
     "metadata": {},
     "output_type": "execute_result"
    }
   ],
   "source": [
    "# Only displays deaths column and ranks them by highest value to lowest\n",
    "num_deaths = c.groupby(\"neighborhood_municipality\").sum()['deaths']\n",
    "num_deaths.sort_values(ascending=False)"
   ]
  },
  {
   "cell_type": "code",
   "execution_count": 30,
   "metadata": {},
   "outputs": [
    {
     "data": {
      "text/html": [
       "<div>\n",
       "<style scoped>\n",
       "    .dataframe tbody tr th:only-of-type {\n",
       "        vertical-align: middle;\n",
       "    }\n",
       "\n",
       "    .dataframe tbody tr th {\n",
       "        vertical-align: top;\n",
       "    }\n",
       "\n",
       "    .dataframe thead th {\n",
       "        text-align: right;\n",
       "    }\n",
       "</style>\n",
       "<table border=\"1\" class=\"dataframe\">\n",
       "  <thead>\n",
       "    <tr style=\"text-align: right;\">\n",
       "      <th></th>\n",
       "      <th>individuals_tested</th>\n",
       "      <th>infections</th>\n",
       "      <th>reinfections</th>\n",
       "      <th>deaths</th>\n",
       "      <th>hospitalizations</th>\n",
       "      <th>tests</th>\n",
       "      <th>postives</th>\n",
       "      <th>ag_tests</th>\n",
       "      <th>positive_ag_tests</th>\n",
       "      <th>pcr_tests</th>\n",
       "      <th>positive_pcr_tests</th>\n",
       "    </tr>\n",
       "  </thead>\n",
       "  <tbody>\n",
       "    <tr>\n",
       "      <th>count</th>\n",
       "      <td>221.000000</td>\n",
       "      <td>221.000000</td>\n",
       "      <td>221.000000</td>\n",
       "      <td>221.000000</td>\n",
       "      <td>221.000000</td>\n",
       "      <td>221.000000</td>\n",
       "      <td>221.000000</td>\n",
       "      <td>221.000000</td>\n",
       "      <td>221.000000</td>\n",
       "      <td>221.000000</td>\n",
       "      <td>221.000000</td>\n",
       "    </tr>\n",
       "    <tr>\n",
       "      <th>mean</th>\n",
       "      <td>4146.461538</td>\n",
       "      <td>5630.357466</td>\n",
       "      <td>386.140271</td>\n",
       "      <td>14.592760</td>\n",
       "      <td>59.095023</td>\n",
       "      <td>15064.190045</td>\n",
       "      <td>1450.257919</td>\n",
       "      <td>3757.805430</td>\n",
       "      <td>332.728507</td>\n",
       "      <td>11296.199095</td>\n",
       "      <td>1113.434389</td>\n",
       "    </tr>\n",
       "    <tr>\n",
       "      <th>std</th>\n",
       "      <td>5429.048641</td>\n",
       "      <td>7435.638097</td>\n",
       "      <td>563.579972</td>\n",
       "      <td>23.482813</td>\n",
       "      <td>79.020855</td>\n",
       "      <td>20605.615182</td>\n",
       "      <td>1811.663914</td>\n",
       "      <td>5860.115344</td>\n",
       "      <td>479.340189</td>\n",
       "      <td>15397.776118</td>\n",
       "      <td>1344.440547</td>\n",
       "    </tr>\n",
       "    <tr>\n",
       "      <th>min</th>\n",
       "      <td>27.000000</td>\n",
       "      <td>28.000000</td>\n",
       "      <td>0.000000</td>\n",
       "      <td>0.000000</td>\n",
       "      <td>0.000000</td>\n",
       "      <td>84.000000</td>\n",
       "      <td>9.000000</td>\n",
       "      <td>16.000000</td>\n",
       "      <td>0.000000</td>\n",
       "      <td>55.000000</td>\n",
       "      <td>4.000000</td>\n",
       "    </tr>\n",
       "    <tr>\n",
       "      <th>25%</th>\n",
       "      <td>944.000000</td>\n",
       "      <td>1181.000000</td>\n",
       "      <td>66.000000</td>\n",
       "      <td>2.000000</td>\n",
       "      <td>13.000000</td>\n",
       "      <td>3063.000000</td>\n",
       "      <td>334.000000</td>\n",
       "      <td>670.000000</td>\n",
       "      <td>59.000000</td>\n",
       "      <td>2312.000000</td>\n",
       "      <td>288.000000</td>\n",
       "    </tr>\n",
       "    <tr>\n",
       "      <th>50%</th>\n",
       "      <td>2102.000000</td>\n",
       "      <td>2687.000000</td>\n",
       "      <td>175.000000</td>\n",
       "      <td>6.000000</td>\n",
       "      <td>36.000000</td>\n",
       "      <td>7129.000000</td>\n",
       "      <td>774.000000</td>\n",
       "      <td>1632.000000</td>\n",
       "      <td>146.000000</td>\n",
       "      <td>5561.000000</td>\n",
       "      <td>619.000000</td>\n",
       "    </tr>\n",
       "    <tr>\n",
       "      <th>75%</th>\n",
       "      <td>5204.000000</td>\n",
       "      <td>6550.000000</td>\n",
       "      <td>449.000000</td>\n",
       "      <td>15.000000</td>\n",
       "      <td>67.000000</td>\n",
       "      <td>18085.000000</td>\n",
       "      <td>1770.000000</td>\n",
       "      <td>4016.000000</td>\n",
       "      <td>389.000000</td>\n",
       "      <td>13384.000000</td>\n",
       "      <td>1395.000000</td>\n",
       "    </tr>\n",
       "    <tr>\n",
       "      <th>max</th>\n",
       "      <td>35883.000000</td>\n",
       "      <td>38804.000000</td>\n",
       "      <td>3139.000000</td>\n",
       "      <td>137.000000</td>\n",
       "      <td>586.000000</td>\n",
       "      <td>129779.000000</td>\n",
       "      <td>10149.000000</td>\n",
       "      <td>33178.000000</td>\n",
       "      <td>2392.000000</td>\n",
       "      <td>97395.000000</td>\n",
       "      <td>7775.000000</td>\n",
       "    </tr>\n",
       "  </tbody>\n",
       "</table>\n",
       "</div>"
      ],
      "text/plain": [
       "       individuals_tested    infections  reinfections      deaths  \\\n",
       "count          221.000000    221.000000    221.000000  221.000000   \n",
       "mean          4146.461538   5630.357466    386.140271   14.592760   \n",
       "std           5429.048641   7435.638097    563.579972   23.482813   \n",
       "min             27.000000     28.000000      0.000000    0.000000   \n",
       "25%            944.000000   1181.000000     66.000000    2.000000   \n",
       "50%           2102.000000   2687.000000    175.000000    6.000000   \n",
       "75%           5204.000000   6550.000000    449.000000   15.000000   \n",
       "max          35883.000000  38804.000000   3139.000000  137.000000   \n",
       "\n",
       "       hospitalizations          tests      postives      ag_tests  \\\n",
       "count        221.000000     221.000000    221.000000    221.000000   \n",
       "mean          59.095023   15064.190045   1450.257919   3757.805430   \n",
       "std           79.020855   20605.615182   1811.663914   5860.115344   \n",
       "min            0.000000      84.000000      9.000000     16.000000   \n",
       "25%           13.000000    3063.000000    334.000000    670.000000   \n",
       "50%           36.000000    7129.000000    774.000000   1632.000000   \n",
       "75%           67.000000   18085.000000   1770.000000   4016.000000   \n",
       "max          586.000000  129779.000000  10149.000000  33178.000000   \n",
       "\n",
       "       positive_ag_tests     pcr_tests  positive_pcr_tests  \n",
       "count         221.000000    221.000000          221.000000  \n",
       "mean          332.728507  11296.199095         1113.434389  \n",
       "std           479.340189  15397.776118         1344.440547  \n",
       "min             0.000000     55.000000            4.000000  \n",
       "25%            59.000000   2312.000000          288.000000  \n",
       "50%           146.000000   5561.000000          619.000000  \n",
       "75%           389.000000  13384.000000         1395.000000  \n",
       "max          2392.000000  97395.000000         7775.000000  "
      ]
     },
     "execution_count": 30,
     "metadata": {},
     "output_type": "execute_result"
    }
   ],
   "source": [
    "# Compute summary statistics on the numerical columns using pandas \n",
    "c.describe()"
   ]
  },
  {
   "cell_type": "code",
   "execution_count": 31,
   "metadata": {},
   "outputs": [
    {
     "name": "stdout",
     "output_type": "stream",
     "text": [
      "         neighborhood_municipality  individuals_tested  infections  \\\n",
      "0                           Aleppo                1102        1557   \n",
      "1    Allegheny Center (Pittsburgh)                1011        1181   \n",
      "2      Allegheny West (Pittsburgh)                 349         392   \n",
      "3           Allentown (Pittsburgh)                1489        2294   \n",
      "4           Arlington (Pittsburgh)                1075        1736   \n",
      "..                             ...                 ...         ...   \n",
      "216                      Whitehall               10686       19177   \n",
      "217                        Wilkins                4176        5344   \n",
      "218                    Wilkinsburg               10371       14323   \n",
      "219                     Wilmerding                1055        1752   \n",
      "220           Windgap (Pittsburgh)                 811        1071   \n",
      "\n",
      "     reinfections  deaths  hospitalizations  tests  postives  ag_tests  \\\n",
      "0              34      15                19   4684       323      2374   \n",
      "1              80       5                14   2898       374       379   \n",
      "2              61       0                 5   1217       109       240   \n",
      "3             176       2                33   5212       617      1275   \n",
      "4             216       9                29   4382       519      1050   \n",
      "..            ...     ...               ...    ...       ...       ...   \n",
      "216          1473      74               188  39472      4395      8045   \n",
      "217           330      15                80  13955      1581      3355   \n",
      "218          1215      48               271  37936      3644      6695   \n",
      "219           168       4                29   3770       474       959   \n",
      "220            58       3                11   2741       320       610   \n",
      "\n",
      "     positive_ag_tests  pcr_tests  positive_pcr_tests update_date     result  \n",
      "0                   96       2312                 227  2022-04-04  14.501548  \n",
      "1                   47       2520                 327  2022-04-04   7.748663  \n",
      "2                   17        977                  92  2022-04-04  11.165138  \n",
      "3                   83       3934                 534  2022-04-04   8.447326  \n",
      "4                  105       3329                 413  2022-04-04   8.443160  \n",
      "..                 ...        ...                 ...         ...        ...  \n",
      "216               1173      31416                3207  2022-04-04   8.981115  \n",
      "217                418      10595                1156  2022-04-04   8.826692  \n",
      "218                509      31241                3132  2022-04-04  10.410538  \n",
      "219                118       2814                 356  2022-04-04   7.953586  \n",
      "220                 77       2125                 242  2022-04-04   8.565625  \n",
      "\n",
      "[221 rows x 14 columns]\n"
     ]
    }
   ],
   "source": [
    "df = pd.DataFrame(c) # make a data frame\n",
    "df[\"result\"] = df[\"tests\"]/df[\"postives\"] # divide tests by positives\n",
    "print(df)"
   ]
  },
  {
   "cell_type": "code",
   "execution_count": 32,
   "metadata": {},
   "outputs": [
    {
     "data": {
      "text/plain": [
       "109     5.501672\n",
       "195     5.600000\n",
       "205     5.890244\n",
       "108     6.568726\n",
       "176     6.607843\n",
       "         ...    \n",
       "135    24.020000\n",
       "211    25.244939\n",
       "82     26.809278\n",
       "198    30.936591\n",
       "183    39.657464\n",
       "Name: result, Length: 221, dtype: float64"
      ]
     },
     "execution_count": 32,
     "metadata": {},
     "output_type": "execute_result"
    }
   ],
   "source": [
    "df['result'].sort_values(ascending=True) # sort values from lowest positive rate to highest"
   ]
  },
  {
   "cell_type": "markdown",
   "metadata": {},
   "source": [
    "0. The lowest positives rates per neighborhood are:\n",
    "1. Liberty: 5.5%\n",
    "2. Thornburg: 5.6%\n",
    "3. Versailles: 5.89%\n",
    "4. Leetsdale: 6.57%\n",
    "5. South Shore: 6.61%"
   ]
  },
  {
   "cell_type": "markdown",
   "metadata": {},
   "source": [
    "0. The highest positive rates per neighorhood are:\n",
    "1. Springdale Township: 39.66%\n",
    "2. Turtle Creek: 30.94%\n",
    "3. Glassport: 26.81%\n",
    "4. West Mifflin: 25.24%\n",
    "5. North Oakland: 24.02%"
   ]
  }
 ],
 "metadata": {
  "kernelspec": {
   "display_name": "Python 3",
   "language": "python",
   "name": "python3"
  },
  "language_info": {
   "codemirror_mode": {
    "name": "ipython",
    "version": 3
   },
   "file_extension": ".py",
   "mimetype": "text/x-python",
   "name": "python",
   "nbconvert_exporter": "python",
   "pygments_lexer": "ipython3",
   "version": "3.8.3"
  }
 },
 "nbformat": 4,
 "nbformat_minor": 4
}
